{
 "cells": [
  {
   "cell_type": "code",
   "execution_count": null,
   "metadata": {},
   "outputs": [],
   "source": [
    "from math import *\n",
    "from numpy import *\n",
    "import matplotlib.pyplot as plt\n",
    "import pandas as pd\n",
    "import os"
   ]
  },
  {
   "cell_type": "code",
   "execution_count": null,
   "metadata": {},
   "outputs": [],
   "source": [
    "current_dir = os.getcwd()\n",
    "folder_path = os.path.join(current_dir, 'main1010_sim')"
   ]
  },
  {
   "cell_type": "code",
   "execution_count": null,
   "metadata": {},
   "outputs": [],
   "source": [
    "projectiles = [\"p\", \"ap\", \"n\", \"an\", \"pi0\", \"pip\", \"pim\", \"k0\", \"kp\", \"km\", \"k0l\", \"k0s\", \"lambda0\", \"sigma0\", \"sigmap\", \"sigmam\", \"xi0\"]\n",
    "proj_ids = [\"2212\", \"-2212\", \"2112\", \"-2112\", \"111\", \"211\", \"-211\", \"311\", \"321\", \"-321\", \"130\", \"310\", \"3122\", \"3212\", \"3222\", \"3112\", \"3322\"]\n",
    "targ_ids = [\"2212\", \"1000060120\", \"1000070140\", \"1000080160\", \"1000180400\"]"
   ]
  },
  {
   "cell_type": "code",
   "execution_count": null,
   "metadata": {},
   "outputs": [],
   "source": [
    "dfs = []\n",
    "files_with_nan_proj_id = []\n",
    "\n",
    "for file_name in os.listdir(folder_path):\n",
    "    if file_name.endswith('.dat'):\n",
    "        particle = file_name.split('_')[1]\n",
    "        \n",
    "        if particle in projectiles:\n",
    "            file_path = os.path.join(folder_path, file_name)\n",
    "            df = pd.read_csv(file_path, delimiter='\\t', header=None)\n",
    "            df = df.transpose()\n",
    "            df.columns = df.iloc[0]\n",
    "            df = df.drop(df.index[0])\n",
    "            df['elab'] = df['elab'].str[4:].astype(int)\n",
    "            dfs.append(df)"
   ]
  },
  {
   "cell_type": "code",
   "execution_count": null,
   "metadata": {},
   "outputs": [],
   "source": [
    "merged_df = pd.concat(dfs, ignore_index=True)\n",
    "\n",
    "merged_df['proj_id'] = pd.Categorical(merged_df['proj_id'], categories=proj_ids, ordered=True)\n",
    "merged_df['targ_id'] = pd.Categorical(merged_df['targ_id'], categories=targ_ids, ordered=True)\n",
    "merged_df.sort_values(by=['proj_id', 'targ_id', 'elab'], ascending=[True, True, True], inplace=True)"
   ]
  },
  {
   "cell_type": "code",
   "execution_count": null,
   "metadata": {},
   "outputs": [],
   "source": [
    "def format_scientific(x):\n",
    "    if isinstance(x, (int)) and x >= 1e6:\n",
    "        return '{:.0e}'.format(x)\n",
    "    else:\n",
    "        return x\n",
    "\n",
    "merged_df.iloc[:, 3:] = merged_df.iloc[:, 3:].applymap(format_scientific)"
   ]
  },
  {
   "cell_type": "code",
   "execution_count": null,
   "metadata": {},
   "outputs": [],
   "source": [
    "merged_df.iloc[:, 3:] = merged_df.iloc[:, 3:].apply(pd.to_numeric, errors='coerce')\n",
    "merged_df.iloc[:, 3:] = merged_df.iloc[:, 3:].applymap(lambda x: '{:.6e}'.format(x) if isinstance(x, (int, float)) else x)"
   ]
  },
  {
   "cell_type": "code",
   "execution_count": null,
   "metadata": {},
   "outputs": [],
   "source": [
    "print(\"Merged DataFrame:\")\n",
    "print(merged_df)"
   ]
  },
  {
   "cell_type": "code",
   "execution_count": null,
   "metadata": {},
   "outputs": [],
   "source": [
    "output_dir = os.path.join(current_dir, 'split_data')\n",
    "os.makedirs(output_dir, exist_ok=True)\n",
    "\n",
    "grouped = merged_df.groupby(['proj_id', 'targ_id'])\n",
    "\n",
    "for group_name, grouped_df in grouped:\n",
    "    file_name = f\"xsec_{group_name[0]}_{group_name[1]}.tsv\"\n",
    "    file_path = os.path.join(output_dir, file_name)\n",
    "    \n",
    "    header = '#' + '\\t'.join(grouped_df.columns)\n",
    "    units = '#' + '\\t'.join(['GeV'] + [''] + [''] + ['mb'] * (grouped_df.shape[1] - 3))\n",
    "    \n",
    "    grouped_df['elab'] = grouped_df['elab'].apply(lambda x: pow(10, x))\n",
    "    grouped_df['elab'] = grouped_df['elab'].apply(lambda x: '{:.6e}'.format(x))\n",
    "    \n",
    "    grouped_df.to_csv(file_path, sep='\\t', index=False, header=False)\n",
    "    \n",
    "    with open(file_path, 'r+') as f:\n",
    "        content = f.read()\n",
    "        f.seek(0, 0)\n",
    "        f.write(header + '\\n' +  units + '\\n' + content)\n",
    "\n",
    "    print(f\"Saved DataFrame for proj_id: {group_name[0]}, targ_id: {group_name[1]} to:\", file_path)"
   ]
  },
  {
   "cell_type": "code",
   "execution_count": null,
   "metadata": {},
   "outputs": [],
   "source": [
    "output_file_path = os.path.join(current_dir, 'xsec.tsv')\n",
    "merged_df.to_csv(output_file_path, sep='\\t', index=False)\n",
    "\n",
    "print(\"Merged DataFrame saved to:\", output_file_path)"
   ]
  }
 ],
 "metadata": {
  "language_info": {
   "name": "python"
  }
 },
 "nbformat": 4,
 "nbformat_minor": 2
}
